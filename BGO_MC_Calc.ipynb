{
 "cells": [
  {
   "cell_type": "code",
   "execution_count": 36,
   "metadata": {},
   "outputs": [],
   "source": [
    "import random\n",
    "import math as m\n",
    "from mpl_toolkits import mplot3d\n",
    "import numpy as np\n",
    "%matplotlib inline\n",
    "import matplotlib.pyplot as plt"
   ]
  },
  {
   "cell_type": "markdown",
   "metadata": {},
   "source": [
    "To do:\n",
    "\n",
    "1- Get real jet to ISO flange distance to jet\n",
    "<br>\n",
    "2- Measure real BGO flange depth /Done\n",
    "<br>\n",
    "3- Check area covered by BGOs by measuring their physical sizes  \n",
    "<br>"
   ]
  },
  {
   "cell_type": "code",
   "execution_count": 37,
   "metadata": {},
   "outputs": [],
   "source": [
    "##BGO geomtery##\n",
    "jet_to_ISOflange= 25 #units in cm\n",
    "BGOflange_thickness= 0.5\n",
    "BGOflange_depth= 14.3\n",
    "jet_to_BGO= jet_to_ISOflange - BGOflange_depth\n",
    "\n",
    "#region of interest: square containing BGOs has 18 cm sides#\n",
    "ymin=-9\n",
    "ymax=9\n",
    "zmin=-9\n",
    "zmax=9"
   ]
  },
  {
   "cell_type": "code",
   "execution_count": 38,
   "metadata": {},
   "outputs": [],
   "source": [
    "theta_list, phi_list, y_list, z_list= [], [], [], []\n",
    "#xx,yy,zz= [],[],[]\n",
    "\n",
    "iternum=100000\n",
    "\n",
    "for i in range(0,iternum):\n",
    "    #random angles\n",
    "    ran1, ran2=np.random.rand(), np.random.rand()\n",
    "\n",
    "    theta= m.asin(2*ran1-1) #-90 to 90\n",
    "    phi= 2*m.pi*(ran2)\n",
    "    \n",
    "    #xx.append(m.cos(theta)*m.cos(phi))\n",
    "    #yy.append(m.cos(theta)*m.sin(phi))\n",
    "    #zz.append(m.sin(theta))\n",
    "     \n",
    "    r= jet_to_BGO/(m.cos(theta)*m.cos(phi))\n",
    "    y= r*m.cos(theta)*m.sin(phi)\n",
    "    z= r*m.sin(theta)\n",
    "    \n",
    "    #particles hitting our ROI\n",
    "    if ((y<ymax and y>ymin) and (z<zmax and z>zmin)):\n",
    "        theta_list.append(theta)\n",
    "        phi_list.append(phi)\n",
    "        y_list.append(y)\n",
    "        z_list.append(z)\n"
   ]
  },
  {
   "cell_type": "code",
   "execution_count": 39,
   "metadata": {},
   "outputs": [
    {
     "data": {
      "text/plain": [
       "27.443"
      ]
     },
     "execution_count": 39,
     "metadata": {},
     "output_type": "execute_result"
    }
   ],
   "source": [
    "eff=len(phi_list)/iternum*100\n",
    "eff"
   ]
  },
  {
   "cell_type": "markdown",
   "metadata": {},
   "source": [
    "#### ESC then y to change this to code\n",
    "fig = plt.figure()\n",
    "\n",
    "ax  = fig.add_subplot(1, 1, 1, projection='3d')\n",
    "\n",
    "\n",
    "ax.plot(xx,yy,zz, '.')\n",
    "ax.view_init(elev=90, azim=0)\n",
    "ax.set_xlim(-1.1, 1.1)\n",
    "ax.set_ylim(-1.1, 1.1)\n",
    "ax.set_zlim(-1.1, 1.1)\n",
    "\n",
    "plt.show()"
   ]
  },
  {
   "cell_type": "code",
   "execution_count": null,
   "metadata": {},
   "outputs": [],
   "source": []
  },
  {
   "cell_type": "code",
   "execution_count": null,
   "metadata": {},
   "outputs": [],
   "source": []
  }
 ],
 "metadata": {
  "kernelspec": {
   "display_name": "Python 3",
   "language": "python",
   "name": "python3"
  },
  "language_info": {
   "codemirror_mode": {
    "name": "ipython",
    "version": 3
   },
   "file_extension": ".py",
   "mimetype": "text/x-python",
   "name": "python",
   "nbconvert_exporter": "python",
   "pygments_lexer": "ipython3",
   "version": "3.7.2"
  }
 },
 "nbformat": 4,
 "nbformat_minor": 2
}
