{
 "cells": [
  {
   "cell_type": "code",
   "execution_count": 1,
   "metadata": {},
   "outputs": [],
   "source": [
    "import random\n",
    "import math as m\n",
    "from mpl_toolkits import mplot3d\n",
    "import numpy as np\n",
    "%matplotlib inline\n",
    "import matplotlib.pyplot as plt"
   ]
  },
  {
   "cell_type": "markdown",
   "metadata": {},
   "source": [
    "To do:\n",
    "\n",
    "1- Get real jet to ISO flange distance to jet \n",
    "<br>\n",
    "2- Measure real BGO flange depth --DONE\n",
    "<br>\n",
    "3- Check area covered by BGOs by measuring their physical sizes --DONE\n",
    "<br>"
   ]
  },
  {
   "cell_type": "code",
   "execution_count": 7,
   "metadata": {},
   "outputs": [],
   "source": [
    "##BGO flange geomtery##\n",
    "jet_to_ISOflange= 25 #units in cm\n",
    "BGOflange_thickness= 0.5\n",
    "BGOflange_depth= 14.3\n",
    "jet_to_BGO= jet_to_ISOflange - BGOflange_depth\n",
    "\n",
    "#region of interest: 'square' containing BGOs has 18 cm sides, or we can take the flange dimensions as 14x15.1 cm\n",
    "ymin=-9.6\n",
    "ymax=9.6\n",
    "zmin=-8.95\n",
    "zmax=8.95"
   ]
  },
  {
   "cell_type": "code",
   "execution_count": 8,
   "metadata": {},
   "outputs": [],
   "source": [
    "#creating random photons and counting the ones hitting the flange area\n",
    "theta_list, phi_list, y_list, z_list= [], [], [], []\n",
    "\n",
    "iternum=100000\n",
    "\n",
    "for i in range(0,iternum):\n",
    "    #random angles\n",
    "    ran1, ran2= np.random.rand(), np.random.rand()\n",
    "\n",
    "    theta= m.asin(2*ran1-1) #-90 to 90\n",
    "    phi= 2*m.pi*(ran2)\n",
    "    \n",
    " \n",
    "    r= jet_to_BGO/(m.cos(theta)*m.cos(phi))\n",
    "    y= r*m.cos(theta)*m.sin(phi)\n",
    "    z= r*m.sin(theta)\n",
    "    \n",
    "    #particles hitting our ROI\n",
    "    if ((y<ymax and y>ymin) and (z<zmax and z>zmin)):\n",
    "        theta_list.append(theta)\n",
    "        phi_list.append(phi)\n",
    "        y_list.append(y)\n",
    "        z_list.append(z)\n"
   ]
  },
  {
   "cell_type": "code",
   "execution_count": 9,
   "metadata": {},
   "outputs": [
    {
     "data": {
      "text/plain": [
       "28.267999999999997"
      ]
     },
     "execution_count": 9,
     "metadata": {},
     "output_type": "execute_result"
    }
   ],
   "source": [
    "eff=len(phi_list)/iternum*100\n",
    "eff"
   ]
  },
  {
   "cell_type": "code",
   "execution_count": 10,
   "metadata": {},
   "outputs": [
    {
     "data": {
      "text/plain": [
       "(201.56741273082807, 0.5864973601339272, 0.691348724925217)"
      ]
     },
     "execution_count": 10,
     "metadata": {},
     "output_type": "execute_result"
    }
   ],
   "source": [
    "#Actual BGO face area: \n",
    "hex_side_cover= 2.1 #side length in cm\n",
    "# 3.4 cm peak to peak\n",
    "face_2_face = 3.5 # 3.5 cm face to face\n",
    "face_2_face_cover = 3.8 # 3.8 cm face to face\n",
    "num_detectors = 19\n",
    "\n",
    "\n",
    "#total_hex_area= 3*m.sqrt(3)/2*hex_side**2 * num_detectors\n",
    "total_hex_area= m.sqrt(3)/2*face_2_face**2 * num_detectors\n",
    "total_cover_area= m.sqrt(3)/2*face_2_face_cover**2 * num_detectors\n",
    "bgo_coverage= total_hex_area/((ymax-ymin)*(zmax-zmin))\n",
    "bgo_coverage_case= total_cover_area/((ymax-ymin)*(zmax-zmin))\n",
    "total_hex_area, bgo_coverage, bgo_coverage_case"
   ]
  },
  {
   "cell_type": "code",
   "execution_count": 11,
   "metadata": {},
   "outputs": [
    {
     "data": {
      "text/plain": [
       "16.579107376265853"
      ]
     },
     "execution_count": 11,
     "metadata": {},
     "output_type": "execute_result"
    }
   ],
   "source": [
    "geo_eff= bgo_coverage*eff\n",
    "geo_eff\n"
   ]
  },
  {
   "cell_type": "markdown",
   "metadata": {},
   "source": [
    "Intrinsic efficiency decreases with photon energy and detector volume. \n",
    "Assuming it is 20% (--> need a more accurate estimate)"
   ]
  },
  {
   "cell_type": "code",
   "execution_count": 14,
   "metadata": {},
   "outputs": [
    {
     "data": {
      "text/plain": [
       "3.3158214752531707"
      ]
     },
     "execution_count": 14,
     "metadata": {},
     "output_type": "execute_result"
    }
   ],
   "source": [
    "geo_eff*0.2\n"
   ]
  },
  {
   "cell_type": "markdown",
   "metadata": {},
   "source": [
    "#### ESC then y to change this to code\n",
    "fig = plt.figure()\n",
    "\n",
    "ax  = fig.add_subplot(1, 1, 1, projection='3d')\n",
    "\n",
    "\n",
    "ax.plot(xx,yy,zz, '.')\n",
    "ax.view_init(elev=90, azim=0)\n",
    "ax.set_xlim(-1.1, 1.1)\n",
    "ax.set_ylim(-1.1, 1.1)\n",
    "ax.set_zlim(-1.1, 1.1)\n",
    "\n",
    "plt.show()"
   ]
  },
  {
   "cell_type": "code",
   "execution_count": null,
   "metadata": {},
   "outputs": [],
   "source": []
  },
  {
   "cell_type": "code",
   "execution_count": null,
   "metadata": {},
   "outputs": [],
   "source": []
  },
  {
   "cell_type": "code",
   "execution_count": null,
   "metadata": {},
   "outputs": [],
   "source": []
  }
 ],
 "metadata": {
  "kernelspec": {
   "display_name": "Python 3",
   "language": "python",
   "name": "python3"
  },
  "language_info": {
   "codemirror_mode": {
    "name": "ipython",
    "version": 3
   },
   "file_extension": ".py",
   "mimetype": "text/x-python",
   "name": "python",
   "nbconvert_exporter": "python",
   "pygments_lexer": "ipython3",
   "version": "3.7.2"
  }
 },
 "nbformat": 4,
 "nbformat_minor": 2
}
